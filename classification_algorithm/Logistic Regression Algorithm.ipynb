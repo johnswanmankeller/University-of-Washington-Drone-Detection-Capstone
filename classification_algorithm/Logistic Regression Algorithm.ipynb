{
 "cells": [
  {
   "cell_type": "code",
   "execution_count": 48,
   "metadata": {},
   "outputs": [],
   "source": [
    "# Packages are imported\n",
    "import pandas as pd\n",
    "import numpy as np\n",
    "from numpy import argmax\n",
    "from numpy import sqrt\n",
    "import matplotlib.pyplot as plt\n",
    "import seaborn as sns\n",
    "import sklearn\n",
    "\n",
    "from sklearn import metrics\n",
    "from sklearn.linear_model import LogisticRegression\n",
    "from sklearn.model_selection import train_test_split\n",
    "from sklearn.metrics import precision_recall_curve\n",
    "from sklearn.metrics import roc_curve"
   ]
  },
  {
   "cell_type": "code",
   "execution_count": null,
   "metadata": {},
   "outputs": [],
   "source": [
    "# The CSV file with all of the data is read and stored in sim\n",
    "sim = pd.read_csv(\"sim.csv\")"
   ]
  },
  {
   "cell_type": "code",
   "execution_count": null,
   "metadata": {},
   "outputs": [],
   "source": [
    "# The average RSRP of drone data points, average RSRQ of drone points,\n",
    "# and that for non-drone data points are seperated into individual arrays\n",
    "terrestrial_avgRSRP = []\n",
    "terrestrial_avgRSRQ = []\n",
    "drone_avgRSRP = []\n",
    "drone_avgRSRQ = []\n",
    "for index, row in sim.iterrows():\n",
    "    if row.drone == 0:\n",
    "        terrestrial_avgRSRP.append(row.avgRSRP) \n",
    "        terrestrial_avgRSRQ.append(row.avgRSRQ)\n",
    "    else:\n",
    "        drone_avgRSRP.append(row.avgRSRP) \n",
    "        drone_avgRSRQ.append(row.avgRSRQ)"
   ]
  },
  {
   "cell_type": "code",
   "execution_count": 49,
   "metadata": {},
   "outputs": [],
   "source": [
    "### Code to separate drone data by altitude of collection\n",
    "#terrestrial_avgRSRP = []\n",
    "#terrestrial_avgRSRQ = []\n",
    "#sixty_avgRSRP = []\n",
    "#sixty_avgRSRQ = []\n",
    "#hundred_avgRSRP = []\n",
    "#hundred_avgRSRQ = []\n",
    "#for index, row in sim.iterrows():\n",
    "#    if row.altitude == 0:\n",
    " #       terrestrial_avgRSRP.append(row.avgRSRP) \n",
    "  #      terrestrial_avgRSRQ.append(row.avgRSRQ)\n",
    "   # elif row.altitude == 60:\n",
    "    #    sixty_avgRSRP.append(row.avgRSRP)\n",
    "     #   sixty_avgRSRQ.append(row.avgRSRQ)\n",
    "#    else:\n",
    " #       hundred_avgRSRP.append(row.avgRSRP) \n",
    "  #      hundred_avgRSRQ.append(row.avgRSRQ)"
   ]
  },
  {
   "cell_type": "code",
   "execution_count": 50,
   "metadata": {
    "scrolled": false
   },
   "outputs": [
    {
     "data": {
      "text/plain": [
       "<matplotlib.legend.Legend at 0x28b947cbd48>"
      ]
     },
     "execution_count": 50,
     "metadata": {},
     "output_type": "execute_result"
    },
    {
     "data": {
      "image/png": "[encoded data removed]",
      "text/plain": [
       "<Figure size 432x288 with 1 Axes>"
      ]
     },
     "metadata": {
      "needs_background": "light"
     },
     "output_type": "display_data"
    }
   ],
   "source": [
    "# Average RSRP and Average RSRQ are plotted in a scatter plot.\n",
    "# Blue points represent drone data points.\n",
    "# Red points represent non-drone data points\n",
    "plt.xlabel('avgRSRP')\n",
    "plt.ylabel('avgRSRQ')\n",
    "ax = plt.gca()\n",
    "ax.scatter(drone_avgRSRP, drone_avgRSRQ, color=\"b\", label = 'drone')\n",
    "ax.scatter(terrestrial_avgRSRP, terrestrial_avgRSRQ, color=\"r\", label = 'non-drone')\n",
    "ax.legend()"
   ]
  },
  {
   "cell_type": "code",
   "execution_count": 51,
   "metadata": {},
   "outputs": [
    {
     "name": "stdout",
     "output_type": "stream",
     "text": [
      "['avgRSRP', 'towers', 'RSSI', 'avgRSRQ']\n"
     ]
    }
   ],
   "source": [
    "# The dependent variable is the true classification of the data point,\n",
    "# drone or non-drone. The predictor variables are all other data\n",
    "# parameters.\n",
    "y = sim.drone.copy()\n",
    "X = sim.drop(['drone'], axis=1)\n",
    "features = X.columns\n",
    "features = list(features)\n",
    "print(features)"
   ]
  },
  {
   "cell_type": "code",
   "execution_count": 52,
   "metadata": {},
   "outputs": [],
   "source": [
    "# The data set is split, randomly, into a data set to be used to train the model\n",
    "# and a data set used to test and evaluate the model. The data set is split such\n",
    "# that 80% of the data is used for testing and the remaining 20% of the data is\n",
    "# used to test the model.\n",
    "X_train, X_test, y_train, y_test = train_test_split(X, y, test_size=0.20, random_state=123)"
   ]
  },
  {
   "cell_type": "code",
   "execution_count": 53,
   "metadata": {},
   "outputs": [
    {
     "name": "stderr",
     "output_type": "stream",
     "text": [
      "C:\\Users\\12148\\Anaconda3\\lib\\site-packages\\sklearn\\linear_model\\logistic.py:432: FutureWarning: Default solver will be changed to 'lbfgs' in 0.22. Specify a solver to silence this warning.\n",
      "  FutureWarning)\n"
     ]
    },
    {
     "data": {
      "text/plain": [
       "LogisticRegression(C=1.0, class_weight=None, dual=False, fit_intercept=True,\n",
       "                   intercept_scaling=1, l1_ratio=None, max_iter=100,\n",
       "                   multi_class='warn', n_jobs=None, penalty='l2',\n",
       "                   random_state=None, solver='warn', tol=0.0001, verbose=0,\n",
       "                   warm_start=False)"
      ]
     },
     "execution_count": 53,
     "metadata": {},
     "output_type": "execute_result"
    }
   ],
   "source": [
    "# The Decision Tree Model is instantiated and trained with the training data\n",
    "model = LogisticRegression()\n",
    "model.fit(X_train, y_train)"
   ]
  },
  {
   "cell_type": "code",
   "execution_count": 54,
   "metadata": {},
   "outputs": [],
   "source": [
    "# Predictions are made on the testing data set using the model\n",
    "y_pred = pd.Series(model.predict(X_test))\n",
    "y_test = y_test.reset_index(drop=True)\n",
    "z = pd.concat([y_test, y_pred], axis=1)\n",
    "z.columns = ['True', 'Prediction']"
   ]
  },
  {
   "cell_type": "code",
   "execution_count": 55,
   "metadata": {
    "scrolled": true
   },
   "outputs": [
    {
     "name": "stdout",
     "output_type": "stream",
     "text": [
      "Accuracy: 0.968421052631579\n",
      "Precision: 0.95\n",
      "Recall: 0.9743589743589743\n"
     ]
    }
   ],
   "source": [
    "# Performance metrics are printed\n",
    "print(\"Accuracy:\", metrics.accuracy_score(y_test, y_pred))\n",
    "print(\"Precision:\", metrics.precision_score(y_test, y_pred))\n",
    "print(\"Recall:\", metrics.recall_score(y_test, y_pred))"
   ]
  },
  {
   "cell_type": "code",
   "execution_count": 56,
   "metadata": {},
   "outputs": [
    {
     "name": "stdout",
     "output_type": "stream",
     "text": [
      "[[9.99979891e-01 2.01085984e-05]\n",
      " [5.89880882e-01 4.10119118e-01]\n",
      " [1.35475122e-04 9.99864525e-01]\n",
      " [9.99710633e-01 2.89367105e-04]\n",
      " [1.49959054e-01 8.50040946e-01]\n",
      " [2.64263459e-07 9.99999736e-01]\n",
      " [1.28279317e-03 9.98717207e-01]\n",
      " [7.09613907e-08 9.99999929e-01]\n",
      " [4.48131274e-04 9.99551869e-01]\n",
      " [4.87541203e-02 9.51245880e-01]\n",
      " [4.24110412e-02 9.57588959e-01]\n",
      " [9.98159837e-01 1.84016336e-03]\n",
      " [8.40977483e-01 1.59022517e-01]\n",
      " [1.12046106e-02 9.88795389e-01]\n",
      " [1.00000000e+00 3.61447807e-10]\n",
      " [9.99691658e-01 3.08342462e-04]\n",
      " [9.99683369e-01 3.16630895e-04]\n",
      " [9.99963951e-01 3.60494369e-05]\n",
      " [4.87098287e-07 9.99999513e-01]\n",
      " [4.96493060e-05 9.99950351e-01]\n",
      " [9.36320938e-01 6.36790617e-02]\n",
      " [5.00459737e-08 9.99999950e-01]\n",
      " [9.99898269e-01 1.01731174e-04]\n",
      " [9.97109305e-01 2.89069466e-03]\n",
      " [9.96190503e-01 3.80949663e-03]\n",
      " [9.90764310e-02 9.00923569e-01]\n",
      " [2.31375677e-01 7.68624323e-01]\n",
      " [3.31613687e-06 9.99996684e-01]\n",
      " [5.19548839e-03 9.94804512e-01]\n",
      " [9.99737637e-01 2.62362946e-04]\n",
      " [9.53624323e-03 9.90463757e-01]\n",
      " [9.99788741e-01 2.11259011e-04]\n",
      " [9.99966500e-01 3.35004166e-05]\n",
      " [9.27320771e-01 7.26792292e-02]\n",
      " [9.99999646e-01 3.53828840e-07]\n",
      " [9.99973714e-01 2.62858630e-05]\n",
      " [1.67591097e-02 9.83240890e-01]\n",
      " [9.99999742e-01 2.58150025e-07]\n",
      " [4.56475373e-06 9.99995435e-01]\n",
      " [9.97272147e-01 2.72785326e-03]\n",
      " [1.02234766e-02 9.89776523e-01]\n",
      " [9.33282749e-01 6.67172510e-02]\n",
      " [8.31750165e-03 9.91682498e-01]\n",
      " [1.79964549e-01 8.20035451e-01]\n",
      " [9.99990097e-01 9.90318731e-06]\n",
      " [2.09858309e-01 7.90141691e-01]\n",
      " [9.00345757e-01 9.96542427e-02]\n",
      " [9.97386811e-01 2.61318908e-03]\n",
      " [3.22319947e-06 9.99996777e-01]\n",
      " [9.98652479e-01 1.34752142e-03]\n",
      " [9.99775634e-01 2.24365673e-04]\n",
      " [9.99969155e-01 3.08445543e-05]\n",
      " [9.99998673e-01 1.32662070e-06]\n",
      " [9.99893846e-01 1.06153815e-04]\n",
      " [9.99976753e-01 2.32468313e-05]\n",
      " [1.00000000e+00 3.61103275e-10]\n",
      " [4.93470498e-05 9.99950653e-01]\n",
      " [1.48498103e-10 1.00000000e+00]\n",
      " [8.84572886e-01 1.15427114e-01]\n",
      " [6.12434474e-01 3.87565526e-01]\n",
      " [5.75110385e-04 9.99424890e-01]\n",
      " [7.57298371e-04 9.99242702e-01]\n",
      " [9.99279976e-01 7.20024470e-04]\n",
      " [4.85792105e-02 9.51420790e-01]\n",
      " [2.64605237e-06 9.99997354e-01]\n",
      " [9.30565286e-01 6.94347141e-02]\n",
      " [9.98542022e-01 1.45797824e-03]\n",
      " [9.74171648e-01 2.58283518e-02]\n",
      " [9.90874635e-01 9.12536513e-03]\n",
      " [9.99988393e-01 1.16072844e-05]\n",
      " [9.99999303e-01 6.97332460e-07]\n",
      " [9.99997663e-01 2.33716515e-06]\n",
      " [9.98972564e-01 1.02743588e-03]\n",
      " [9.99999203e-01 7.96619510e-07]\n",
      " [9.99999982e-01 1.78697378e-08]\n",
      " [9.79148345e-01 2.08516546e-02]\n",
      " [4.49725390e-09 9.99999996e-01]\n",
      " [2.16031266e-07 9.99999784e-01]\n",
      " [9.99990404e-01 9.59640418e-06]\n",
      " [9.71375953e-03 9.90286240e-01]\n",
      " [4.64340482e-04 9.99535660e-01]\n",
      " [9.99997148e-01 2.85199791e-06]\n",
      " [2.53201453e-03 9.97467985e-01]\n",
      " [9.98346302e-01 1.65369767e-03]\n",
      " [9.84990474e-03 9.90150095e-01]\n",
      " [9.98942012e-01 1.05798809e-03]\n",
      " [1.00569206e-03 9.98994308e-01]\n",
      " [9.99984951e-01 1.50491529e-05]\n",
      " [1.54411284e-02 9.84558872e-01]\n",
      " [9.99999388e-01 6.12011442e-07]\n",
      " [9.98747472e-01 1.25252827e-03]\n",
      " [9.73409664e-03 9.90265903e-01]\n",
      " [9.99999607e-01 3.93218240e-07]\n",
      " [9.98364817e-01 1.63518255e-03]\n",
      " [7.06288137e-02 9.29371186e-01]]\n",
      "Feature: avgRSRP: , Score: 0.87654\n",
      "Feature: towers: , Score: 0.47244\n",
      "Feature: RSSI: , Score: -0.44541\n",
      "Feature: avgRSRQ: , Score: -3.27179\n"
     ]
    },
    {
     "data": {
      "image/png": "[encoded data removed]",
      "text/plain": [
       "<Figure size 432x288 with 1 Axes>"
      ]
     },
     "metadata": {
      "needs_background": "light"
     },
     "output_type": "display_data"
    }
   ],
   "source": [
    "# Predict probability that SIM is drone for each data point in test set\n",
    "print(model.predict_proba(X_test))\n",
    "\n",
    "# get importance\n",
    "importance = model.coef_[0]\n",
    "\n",
    "# summarize feature importance\n",
    "for i,v in enumerate(importance):\n",
    "\tprint('Feature: %s: , Score: %0.5f' % (features[i],v))\n",
    "\n",
    "# plot feature importance\n",
    "plt.bar(features, importance)\n",
    "plt.ylabel('Importance')\n",
    "plt.show()"
   ]
  },
  {
   "cell_type": "code",
   "execution_count": 57,
   "metadata": {},
   "outputs": [
    {
     "name": "stdout",
     "output_type": "stream",
     "text": [
      "Best Threshold=0.410119, F-Score=0.975\n"
     ]
    },
    {
     "data": {
      "image/png": "[encoded data removed]",
      "text/plain": [
       "<Figure size 432x288 with 1 Axes>"
      ]
     },
     "metadata": {
      "needs_background": "light"
     },
     "output_type": "display_data"
    }
   ],
   "source": [
    "# predict probabilities\n",
    "probs = model.predict_proba(X_test)\n",
    "# keep probabilities for the positive outcome only\n",
    "probs = probs[:, 1]\n",
    "# calculate pr-curve\n",
    "precision, recall, thresholds = precision_recall_curve(y_test, probs)\n",
    "plt.plot(recall, precision, marker='.', label='Logistic Regression')\n",
    "# convert to f score\n",
    "fscore = (2 * precision * recall) / (precision + recall)\n",
    "# locate the index of the largest f score\n",
    "ix = argmax(fscore)\n",
    "print('Best Threshold=%f, F-Score=%.3f' % (thresholds[ix], fscore[ix]))\n",
    "plt.scatter(recall[ix], precision[ix], marker='o', color='black', label='Best')\n",
    "# axis labels\n",
    "plt.xlabel('Recall')\n",
    "plt.ylabel('Precision')\n",
    "plt.legend()\n",
    "# show the plot\n",
    "plt.show()"
   ]
  },
  {
   "cell_type": "code",
   "execution_count": 58,
   "metadata": {},
   "outputs": [
    {
     "name": "stdout",
     "output_type": "stream",
     "text": [
      "Best Threshold=0.410119, G-Mean=0.982\n"
     ]
    },
    {
     "data": {
      "image/png": "[encoded data removed]",
      "text/plain": [
       "<Figure size 432x288 with 1 Axes>"
      ]
     },
     "metadata": {
      "needs_background": "light"
     },
     "output_type": "display_data"
    }
   ],
   "source": [
    "# predict probabilities\n",
    "probs = model.predict_proba(X_test)\n",
    "# keep probabilities for the positive outcome only\n",
    "probs = probs[:, 1]\n",
    "# calculate pr-curve\n",
    "fpr, tpr, thresholds = roc_curve(y_test, probs)\n",
    "# calculate the g-mean for each threshold\n",
    "gmeans = sqrt(tpr * (1-fpr))\n",
    "plt.plot(fpr, tpr, marker='.', label='Logistic Regression')\n",
    "# locate the index of the largest f score\n",
    "ix = argmax(gmeans)\n",
    "print('Best Threshold=%f, G-Mean=%.3f' % (thresholds[ix], gmeans[ix]))\n",
    "plt.scatter(fpr[ix], tpr[ix], marker='o', color='black', label='Best')\n",
    "# axis labels\n",
    "plt.xlabel('False Positive Rate')\n",
    "plt.ylabel('True Positive Rate')\n",
    "plt.legend()\n",
    "# show the plot\n",
    "plt.show()"
   ]
  },
  {
   "cell_type": "markdown",
   "metadata": {},
   "source": [
    "* Something to consider later * \n",
    "\n",
    "By selecting the \"optimal\" threshold like this, you are utilizing information post-learning, which spoils your test set (i.e., your test or validation set no longer provides an unbiased estimate of out-of-sample error). You may therefore be inducing additional over-fitting unless you choose the threshold inside a cross-validation loop on your training set only, then use it and the trained classifier with your test set.\n"
   ]
  },
  {
   "cell_type": "code",
   "execution_count": 59,
   "metadata": {},
   "outputs": [
    {
     "data": {
      "text/plain": [
       "Text(0.5, 15.0, 'Predicted')"
      ]
     },
     "execution_count": 59,
     "metadata": {},
     "output_type": "execute_result"
    },
    {
     "data": {
      "image/png": "[encoded data removed]",
      "text/plain": [
       "<Figure size 432x288 with 2 Axes>"
      ]
     },
     "metadata": {
      "needs_background": "light"
     },
     "output_type": "display_data"
    }
   ],
   "source": [
    "# Confusion matrix is created\n",
    "cnf_matrix = metrics.confusion_matrix(y_test, y_pred)\n",
    "\n",
    "labels = [0, 1]\n",
    "fig, ax = plt.subplots()\n",
    "tick_marks = np.arange(len(labels))\n",
    "plt.xticks(tick_marks, labels)\n",
    "plt.yticks(tick_marks, labels)\n",
    "\n",
    "\n",
    "# Heatmap effect is added to confusion matrix\n",
    "sns.heatmap(cnf_matrix, annot=True, cmap=\"YlGnBu\", fmt='g')\n",
    "ax.set_ylim([0,2])\n",
    "plt.title('Confusion matrix', y=1.1)\n",
    "plt.ylabel('True')\n",
    "plt.xlabel('Predicted')"
   ]
  },
  {
   "cell_type": "code",
   "execution_count": null,
   "metadata": {},
   "outputs": [],
   "source": []
  },
  {
   "cell_type": "code",
   "execution_count": null,
   "metadata": {},
   "outputs": [],
   "source": []
  }
 ],
 "metadata": {
  "kernelspec": {
   "display_name": "Python 3",
   "language": "python",
   "name": "python3"
  },
  "language_info": {
   "codemirror_mode": {
    "name": "ipython",
    "version": 3
   },
   "file_extension": ".py",
   "mimetype": "text/x-python",
   "name": "python",
   "nbconvert_exporter": "python",
   "pygments_lexer": "ipython3",
   "version": "3.7.4"
  }
 },
 "nbformat": 4,
 "nbformat_minor": 2
}
