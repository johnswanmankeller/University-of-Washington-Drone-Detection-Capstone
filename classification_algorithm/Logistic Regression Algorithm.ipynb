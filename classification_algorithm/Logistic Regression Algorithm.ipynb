{
 "cells": [
  {
   "cell_type": "code",
   "execution_count": 71,
   "metadata": {},
   "outputs": [
    {
     "name": "stdout",
     "output_type": "stream",
     "text": [
      "0.21.3\n"
     ]
    }
   ],
   "source": [
    "import pandas as pd\n",
    "import numpy as np\n",
    "import matplotlib.pyplot as plt\n",
    "import seaborn as sns\n",
    "import sklearn\n",
    "\n",
    "from sklearn import metrics\n",
    "from sklearn.linear_model import LogisticRegression\n",
    "from sklearn.model_selection import train_test_split\n",
    "\n",
    "sim = pd.read_csv(\"sim.csv\")\n",
    "print(sklearn.__version__)"
   ]
  },
  {
   "cell_type": "code",
   "execution_count": 72,
   "metadata": {},
   "outputs": [],
   "source": [
    "for index, row in sim.iterrows():\n",
    "    if row.drone == 0:\n",
    "        terrestrial_dRSRP.append(row.dRSRP) \n",
    "        terrestrial_RSSI.append(row.RSSI)\n",
    "    else:\n",
    "        drone_dRSRP.append(row.dRSRP) \n",
    "        drone_RSSI.append(row.RSSI)\n",
    "        \n",
    "#for index, row in sim.iterrows():\n",
    "#    if row.altitude == (range of meters):\n",
    "#       range_of_meters.append(row.dRSRP) \n",
    "#       range_of_meters.append(row.RSSI)\n",
    "#    else:\n",
    "#        range_of_meters.append(row.dRSRP) \n",
    "#        range_of_meters.append(row.RSSI)"
   ]
  },
  {
   "cell_type": "code",
   "execution_count": 73,
   "metadata": {},
   "outputs": [
    {
     "data": {
      "text/plain": [
       "<matplotlib.legend.Legend at 0x2431ad0c848>"
      ]
     },
     "execution_count": 73,
     "metadata": {},
     "output_type": "execute_result"
    },
    {
     "data": {
      "image/png": "[encoded data removed]",
      "text/plain": [
       "<Figure size 432x288 with 1 Axes>"
      ]
     },
     "metadata": {
      "needs_background": "light"
     },
     "output_type": "display_data"
    }
   ],
   "source": [
    "plt.xlabel('ΔRSRP')\n",
    "plt.ylabel('RSSI')\n",
    "ax = plt.gca()\n",
    "ax.scatter(drone_dRSRP, drone_RSSI, color=\"b\", label = 'drone')\n",
    "ax.scatter(terrestrial_dRSRP, terrestrial_RSSI, color=\"r\", label = 'terrestrial')\n",
    "ax.legend()\n",
    "\n",
    "#plt.xlabel('ΔRSRP')\n",
    "#plt.ylabel('RSSI')\n",
    "#ax = plt.gca()\n",
    "#ax.scatter(drone_dRSRP, drone_RSSI, color=\"b\", label = '10 - 15 meters e.g.')\n",
    "#ax.scatter(terrestrial_dRSRP, terrestrial_RSSI, color=\"r\", label = '200 - 300 meters e.g.')\n",
    "#ax.legend()"
   ]
  },
  {
   "cell_type": "code",
   "execution_count": 13,
   "metadata": {},
   "outputs": [],
   "source": [
    "y = sim.drone.copy()\n",
    "X = sim.drop(['drone'], axis=1)\n",
    "features = sim.columns\n",
    "features = list(features.drop(['drone']))"
   ]
  },
  {
   "cell_type": "code",
   "execution_count": 14,
   "metadata": {},
   "outputs": [],
   "source": [
    "X_train, X_test, y_train, y_test = train_test_split(X, y, test_size=0.20, random_state=123)"
   ]
  },
  {
   "cell_type": "code",
   "execution_count": 15,
   "metadata": {},
   "outputs": [
    {
     "name": "stderr",
     "output_type": "stream",
     "text": [
      "C:\\Users\\12148\\Anaconda3\\lib\\site-packages\\sklearn\\linear_model\\logistic.py:432: FutureWarning: Default solver will be changed to 'lbfgs' in 0.22. Specify a solver to silence this warning.\n",
      "  FutureWarning)\n"
     ]
    },
    {
     "data": {
      "text/plain": [
       "LogisticRegression(C=1.0, class_weight=None, dual=False, fit_intercept=True,\n",
       "                   intercept_scaling=1, l1_ratio=None, max_iter=100,\n",
       "                   multi_class='warn', n_jobs=None, penalty='l2',\n",
       "                   random_state=None, solver='warn', tol=0.0001, verbose=0,\n",
       "                   warm_start=False)"
      ]
     },
     "execution_count": 15,
     "metadata": {},
     "output_type": "execute_result"
    }
   ],
   "source": [
    "model = LogisticRegression()\n",
    "model.fit(X_train, y_train)"
   ]
  },
  {
   "cell_type": "code",
   "execution_count": 16,
   "metadata": {},
   "outputs": [],
   "source": [
    "y_pred = pd.Series(model.predict(X_test))\n",
    "y_test = y_test.reset_index(drop=True)\n",
    "z = pd.concat([y_test, y_pred], axis=1)\n",
    "z.columns = ['True', 'Prediction']"
   ]
  },
  {
   "cell_type": "code",
   "execution_count": 17,
   "metadata": {
    "scrolled": true
   },
   "outputs": [
    {
     "name": "stdout",
     "output_type": "stream",
     "text": [
      "Accuracy: 0.9125\n",
      "Precision: 0.9069767441860465\n",
      "Recall: 0.9285714285714286\n"
     ]
    }
   ],
   "source": [
    "print(\"Accuracy:\", metrics.accuracy_score(y_test, y_pred))\n",
    "print(\"Precision:\", metrics.precision_score(y_test, y_pred))\n",
    "print(\"Recall:\", metrics.recall_score(y_test, y_pred))"
   ]
  },
  {
   "cell_type": "code",
   "execution_count": 74,
   "metadata": {},
   "outputs": [
    {
     "name": "stdout",
     "output_type": "stream",
     "text": [
      "[[0.33401697 0.66598303]\n",
      " [0.06875933 0.93124067]\n",
      " [0.03128815 0.96871185]\n",
      " [0.31676183 0.68323817]\n",
      " [0.68881734 0.31118266]\n",
      " [0.97295103 0.02704897]\n",
      " [0.08229204 0.91770796]\n",
      " [0.38772983 0.61227017]\n",
      " [0.37114416 0.62885584]\n",
      " [0.05382061 0.94617939]\n",
      " [0.07879113 0.92120887]\n",
      " [0.61948796 0.38051204]\n",
      " [0.94672126 0.05327874]\n",
      " [0.23257244 0.76742756]\n",
      " [0.91611127 0.08388873]\n",
      " [0.64532618 0.35467382]\n",
      " [0.23712288 0.76287712]\n",
      " [0.77393737 0.22606263]\n",
      " [0.24107751 0.75892249]\n",
      " [0.09001142 0.90998858]\n",
      " [0.54271306 0.45728694]\n",
      " [0.88164295 0.11835705]\n",
      " [0.34803454 0.65196546]\n",
      " [0.14943256 0.85056744]\n",
      " [0.07696614 0.92303386]\n",
      " [0.11272052 0.88727948]\n",
      " [0.09576539 0.90423461]\n",
      " [0.9800087  0.0199913 ]\n",
      " [0.54420557 0.45579443]\n",
      " [0.73100356 0.26899644]\n",
      " [0.08897155 0.91102845]\n",
      " [0.07295934 0.92704066]\n",
      " [0.93179904 0.06820096]\n",
      " [0.05307136 0.94692864]\n",
      " [0.62596572 0.37403428]\n",
      " [0.0584597  0.9415403 ]\n",
      " [0.75073339 0.24926661]\n",
      " [0.96116762 0.03883238]\n",
      " [0.14944401 0.85055599]\n",
      " [0.96422383 0.03577617]\n",
      " [0.0361538  0.9638462 ]\n",
      " [0.94305403 0.05694597]\n",
      " [0.90241223 0.09758777]\n",
      " [0.67587148 0.32412852]\n",
      " [0.12039397 0.87960603]\n",
      " [0.21439934 0.78560066]\n",
      " [0.51977858 0.48022142]\n",
      " [0.0668617  0.9331383 ]\n",
      " [0.94071237 0.05928763]\n",
      " [0.97646905 0.02353095]\n",
      " [0.03990109 0.96009891]\n",
      " [0.88385135 0.11614865]\n",
      " [0.54106561 0.45893439]\n",
      " [0.89856084 0.10143916]\n",
      " [0.92258168 0.07741832]\n",
      " [0.29273781 0.70726219]\n",
      " [0.04953972 0.95046028]\n",
      " [0.51549655 0.48450345]\n",
      " [0.90574942 0.09425058]\n",
      " [0.21367978 0.78632022]\n",
      " [0.22310718 0.77689282]\n",
      " [0.28395893 0.71604107]\n",
      " [0.2586976  0.7413024 ]\n",
      " [0.87359622 0.12640378]\n",
      " [0.70780589 0.29219411]\n",
      " [0.86512236 0.13487764]\n",
      " [0.95489808 0.04510192]\n",
      " [0.79272998 0.20727002]\n",
      " [0.16326777 0.83673223]\n",
      " [0.04679672 0.95320328]\n",
      " [0.33830111 0.66169889]\n",
      " [0.4787096  0.5212904 ]\n",
      " [0.18278575 0.81721425]\n",
      " [0.13940523 0.86059477]\n",
      " [0.62148123 0.37851877]\n",
      " [0.88384004 0.11615996]\n",
      " [0.92137689 0.07862311]\n",
      " [0.4925562  0.5074438 ]\n",
      " [0.24891679 0.75108321]\n",
      " [0.07471847 0.92528153]]\n",
      "Feature: RSSI: , Score: 0.11323\n",
      "Feature: dRSRP: , Score: -0.07688\n",
      "Feature: RSRQ: , Score: -0.02777\n"
     ]
    },
    {
     "data": {
      "image/png": "[encoded data removed]",
      "text/plain": [
       "<Figure size 432x288 with 1 Axes>"
      ]
     },
     "metadata": {
      "needs_background": "light"
     },
     "output_type": "display_data"
    }
   ],
   "source": [
    "print(model.predict_proba(X_test))\n",
    "importance = model.coef_[0]\n",
    "for i,v in enumerate(importance):\n",
    "\tprint('Feature: %s: , Score: %0.5f' % (features[i],v))\n",
    "# plot feature importance\n",
    "plt.bar(features, importance)\n",
    "plt.ylabel('Importance')\n",
    "plt.show()"
   ]
  },
  {
   "cell_type": "code",
   "execution_count": 84,
   "metadata": {},
   "outputs": [
    {
     "data": {
      "text/plain": [
       "Text(0.5, 15.0, 'Predicted')"
      ]
     },
     "execution_count": 84,
     "metadata": {},
     "output_type": "execute_result"
    },
    {
     "data": {
      "image/png": "[encoded data removed]",
      "text/plain": [
       "<Figure size 432x288 with 2 Axes>"
      ]
     },
     "metadata": {
      "needs_background": "light"
     },
     "output_type": "display_data"
    }
   ],
   "source": [
    "cnf_matrix = metrics.confusion_matrix(y_test, y_pred)\n",
    "\n",
    "labels = [0, 1]\n",
    "fig, ax = plt.subplots()\n",
    "tick_marks = np.arange(len(labels))\n",
    "plt.xticks(tick_marks, labels)\n",
    "plt.yticks(tick_marks, labels)\n",
    "# create heatmap\n",
    "sns.heatmap(cnf_matrix, annot=True, cmap=\"YlGnBu\", fmt='g')\n",
    "ax.set_ylim([0,2])\n",
    "plt.title('Confusion matrix', y=1.1)\n",
    "plt.ylabel('True')\n",
    "plt.xlabel('Predicted')"
   ]
  },
  {
   "cell_type": "code",
   "execution_count": null,
   "metadata": {},
   "outputs": [],
   "source": []
  }
 ],
 "metadata": {
  "kernelspec": {
   "display_name": "Python 3",
   "language": "python",
   "name": "python3"
  },
  "language_info": {
   "codemirror_mode": {
    "name": "ipython",
    "version": 3
   },
   "file_extension": ".py",
   "mimetype": "text/x-python",
   "name": "python",
   "nbconvert_exporter": "python",
   "pygments_lexer": "ipython3",
   "version": "3.7.4"
  }
 },
 "nbformat": 4,
 "nbformat_minor": 2
}
